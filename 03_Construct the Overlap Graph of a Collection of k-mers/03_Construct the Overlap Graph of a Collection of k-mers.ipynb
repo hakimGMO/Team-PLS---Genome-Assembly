{
 "cells": [
  {
   "cell_type": "markdown",
   "metadata": {},
   "source": [
    "# Construct the Overlap Graph of a Collection of k-mers\n",
    "\n",
    "In this chapter, we use the terms prefix and suffix to refer to the first k − 1 nucleotides and last k − 1 nucleotides of a k-mer, respectively.\n",
    "\n",
    "Given an arbitrary collection of k-mers Patterns, we form a graph having a node for each k-mer in Patterns and connect k-mers Pattern and Pattern' by a directed edge if Suffix(Pattern) is equal to Prefix(Pattern'). The resulting graph is called the overlap graph on these k-mers, denoted Overlap(Patterns).\n",
    "\n",
    "## Overlap Graph Problem\n",
    "Construct the overlap graph of a collection of k-mers.\n",
    "\n",
    "Given: A collection Patterns of k-mers.\n",
    "\n",
    "Return: The overlap graph Overlap(Patterns), in the form of an adjacency list.\n",
    "\n",
    "## Sample Dataset\n",
    "ATGCG\n",
    "GCATG\n",
    "CATGC\n",
    "AGGCA\n",
    "GGCAT\n",
    "\n",
    "## Sample Output\n",
    "AGGCA -> GGCAT\n",
    "CATGC -> ATGCG\n",
    "GCATG -> CATGC\n",
    "GGCAT -> GCATG"
   ]
  }
 ],
 "metadata": {
  "language_info": {
   "name": "python"
  }
 },
 "nbformat": 4,
 "nbformat_minor": 2
}
