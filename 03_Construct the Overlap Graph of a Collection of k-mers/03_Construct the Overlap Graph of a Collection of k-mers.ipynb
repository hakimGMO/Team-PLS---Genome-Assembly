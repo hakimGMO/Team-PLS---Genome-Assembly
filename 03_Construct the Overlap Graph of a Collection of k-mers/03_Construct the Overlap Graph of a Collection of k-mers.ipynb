{
  "cells": [
    {
      "cell_type": "markdown",
      "metadata": {
        "id": "-99VJWCPOBQx"
      },
      "source": [
        "# Construct the Overlap Graph of a Collection of k-mers\n",
        "\n",
        "In this chapter, we use the terms prefix and suffix to refer to the first k − 1 nucleotides and last k − 1 nucleotides of a k-mer, respectively.\n",
        "\n",
        "Given an arbitrary collection of k-mers Patterns, we form a graph having a node for each k-mer in Patterns and connect k-mers Pattern and Pattern' by a directed edge if **Suffix(Pattern)** is equal to\n",
        "**Prefix(Pattern')**.\n",
        "The resulting graph is called the overlap graph on these k-mers, denoted Overlap(Patterns).\n",
        "\n",
        "## Overlap Graph Problem\n",
        "Construct the overlap graph of a collection of k-mers.\n",
        "\n",
        "Given: A collection Patterns of k-mers.\n",
        "\n",
        "Return: The overlap graph Overlap(Patterns), in the form of an adjacency list.\n",
        "\n",
        "## Sample Dataset\n",
        "ATGCG\n",
        "GCATG\n",
        "CATGC\n",
        "AGGCA\n",
        "GGCAT\n",
        "\n",
        "## Sample Output\n",
        "AGGCA -> GGCAT\n",
        "CATGC -> ATGCG\n",
        "GCATG -> CATGC\n",
        "GGCAT -> GCATG"
      ]
    },
    {
      "cell_type": "code",
      "execution_count": 1,
      "metadata": {
        "id": "LlcmWtnhOBQz",
        "outputId": "eaf1390c-c720-41da-9c28-5aafed72e34a",
        "colab": {
          "base_uri": "https://localhost:8080/"
        }
      },
      "outputs": [
        {
          "output_type": "stream",
          "name": "stdout",
          "text": [
            "GCATG -> CATGC\n",
            "CATGC -> ATGCG\n",
            "AGGCA -> GGCAT\n",
            "GGCAT -> GCATG\n"
          ]
        }
      ],
      "source": [
        "def construct_overlap_graph(kmers):\n",
        "    # Initialize the dictionary for the overlap graph\n",
        "    graph = {}\n",
        "\n",
        "    # Iterate over each k-mer to find overlaps\n",
        "    for Patterns in Patternss:\n",
        "        suffix = Patterns[1:]  # Suffix of the current k-mer\n",
        "        for other_Patterns in Patternss:\n",
        "            prefix = other_Patterns[:-1]  # Prefix of the other k-mer\n",
        "            if suffix == prefix:\n",
        "                if Patterns not in graph:\n",
        "                    graph[Patterns] = []\n",
        "                graph[Patterns].append(other_Patterns)\n",
        "\n",
        "    return graph\n",
        "\n",
        "# Exemple code modifié :\n",
        "# def construct_overlap_graph(kmers):\n",
        "    # Initialize the dictionary for the overlap graph\n",
        "    graph = {}\n",
        "\n",
        "    # Iterate over each k-mer to find overlaps\n",
        "    for Patterns in kmers:\n",
        "        suffix = Patterns[1:]\n",
        "        for other_Patterns in kmers:\n",
        "            prefix = other_Patterns[:-1]\n",
        "            if suffix == prefix:\n",
        "                if Patterns not in graph:\n",
        "                    graph[Patterns] = []\n",
        "                graph[Patterns].append(other_Patterns)\n",
        "    return graph\n",
        "\n",
        "\n",
        "    # Example usage\n",
        "Patternss = [\n",
        "    \"ATGCG\",\n",
        "    \"GCATG\",\n",
        "    \"CATGC\",\n",
        "    \"AGGCA\",\n",
        "    \"GGCAT\"\n",
        "]\n",
        "\n",
        "overlap_graph = construct_overlap_graph(Patternss)\n",
        "for Patterns, adjacents in overlap_graph.items():\n",
        "    print(f\"{Patterns} -> {', '.join(adjacents)}\")"
      ]
    },
    {
      "cell_type": "markdown",
      "metadata": {
        "vscode": {
          "languageId": "plaintext"
        },
        "id": "IztUmsnNOBQ0"
      },
      "source": [
        "def Prefix (Pattern) :\n",
        "def Suffix (Pattern):\n",
        "\n",
        "def Overlap (Patterns) :\n",
        "   "
      ]
    },
    {
      "cell_type": "code",
      "execution_count": null,
      "metadata": {
        "id": "3kmh6hyjOBQ0",
        "outputId": "8d561979-5a6f-4fa5-e2e8-60c9799397e5"
      },
      "outputs": [
        {
          "name": "stdout",
          "output_type": "stream",
          "text": [
            "GCATG -> CATGC\n",
            "CATGC -> ATGCG\n",
            "AGGCA -> GGCAT\n",
            "GGCAT -> GCATG\n"
          ]
        }
      ],
      "source": [
        "def Prefix(Pattern):\n",
        "    return Pattern[:-1]\n",
        "\n",
        "def Suffix(Pattern):\n",
        "    return Pattern[1:]\n",
        "\n",
        "def Overlap(Patterns):\n",
        "    # Initialize the dictionary for the overlap graph\n",
        "    graph = {}\n",
        "\n",
        "    # Iterate over each k-mer to find overlaps\n",
        "    for Patterns in Patternss:\n",
        "        suffix = Suffix(Patterns)  # Use the Suffix function\n",
        "        for other_Patterns in Patternss:\n",
        "            prefix = Prefix(other_Patterns)  # Use the Prefix function\n",
        "            if suffix == prefix:\n",
        "                if Patterns not in graph:\n",
        "                    graph[Patterns] = []\n",
        "                graph[Patterns].append(other_Patterns)\n",
        "\n",
        "    return graph\n",
        "\n",
        "# Exemple code modifié\n",
        "# def Overlap1(Patterns):\n",
        "  # Iterate over each k-mer to find overlaps\n",
        "    for Pattern in Patterns:\n",
        "        suffix = Suffix(Pattern)  # Use the Suffix function\n",
        "        for other_Pattern in Patterns:\n",
        "            prefix = Prefix(other_Pattern)  # Use the Prefix function\n",
        "            if suffix == prefix:\n",
        "                if Pattern not in graph:\n",
        "                    graph[Pattern] = []\n",
        "                graph[Pattern].append(other_Pattern)\n",
        "\n",
        "    return graph\n",
        "\n",
        "# Example usage\n",
        "Patternss = [\n",
        "    \"ATGCG\",\n",
        "    \"GCATG\",\n",
        "    \"CATGC\",\n",
        "    \"AGGCA\",\n",
        "    \"GGCAT\"\n",
        "]\n",
        "\n",
        "overlap_graph = construct_overlap_graph(Patternss)\n",
        "for Patterns, adjacents in overlap_graph.items():\n",
        "    print(f\"{Patterns} -> {', '.join(adjacents)}\")"
      ]
    },
    {
      "cell_type": "markdown",
      "metadata": {
        "id": "MFjDi7bTOBQ1"
      },
      "source": [
        "Avec NetworkX"
      ]
    },
    {
      "cell_type": "code",
      "execution_count": null,
      "metadata": {
        "id": "A8pGQRXOOBQ1",
        "outputId": "1023b7d4-1811-4b79-f502-9602c911d1e4"
      },
      "outputs": [
        {
          "data": {
            "image/png": "[encoded data removed]",
            "text/plain": [
              "<Figure size 1000x500 with 1 Axes>"
            ]
          },
          "metadata": {},
          "output_type": "display_data"
        },
        {
          "name": "stdout",
          "output_type": "stream",
          "text": [
            "\n",
            "Edges in the graph:\n",
            "GCATG -> CATGC\n",
            "CATGC -> ATGCG\n",
            "AGGCA -> GGCAT\n",
            "GGCAT -> GCATG\n"
          ]
        },
        {
          "data": {
            "text/plain": [
              "<Figure size 640x480 with 0 Axes>"
            ]
          },
          "metadata": {},
          "output_type": "display_data"
        }
      ],
      "source": [
        "\n",
        "import networkx as nx\n",
        "import matplotlib.pyplot as plt\n",
        "\n",
        "Patternss = [\"ATGCG\", \"GCATG\", \"CATGC\", \"AGGCA\", \"GGCAT\"]\n",
        "def construct_overlap_network(Patternss):\n",
        "    G = nx.DiGraph()\n",
        "    \"\"\"on va faire un graphe dirigé pour reconstuire un chemin entre les k-mers tels que suffixe n = préfixe n-1\"\"\"\n",
        "    G.add_nodes_from(Patternss)\n",
        "    for Patterns in Patternss:\n",
        "        suffix = Patterns[1:]\n",
        "        for other_Patterns in Patternss:\n",
        "            prefix = other_Patterns[:-1]\n",
        "            if suffix == prefix:\n",
        "                G.add_edge(Patterns, other_Patterns)\n",
        "\n",
        "    return G\n",
        "\n",
        "\n",
        "G = construct_overlap_network(Patternss)\n",
        "# visualisation, avec pos des noeuds\n",
        "fig = plt.figure(figsize=(10, 5))\n",
        "pos = nx.spring_layout(G)\n",
        "nx.draw(G, pos, with_labels=True, node_color='red',\n",
        "        node_size=1500, arrowsize=50,\n",
        "        font_size=8, font_weight='bold')\n",
        "plt.show()\n",
        "\n",
        "# You can also print edges\n",
        "print(\"\\nEdges in the graph:\")\n",
        "for edge in G.edges():\n",
        "    print(f\"{edge[0]} -> {edge[1]}\")\n",
        "plt.savefig(\"fig.png\")"
      ]
    }
  ],
  "metadata": {
    "kernelspec": {
      "display_name": "Python 3",
      "language": "python",
      "name": "python3"
    },
    "language_info": {
      "codemirror_mode": {
        "name": "ipython",
        "version": 3
      },
      "file_extension": ".py",
      "mimetype": "text/x-python",
      "name": "python",
      "nbconvert_exporter": "python",
      "pygments_lexer": "ipython3",
      "version": "3.12.0"
    },
    "colab": {
      "provenance": []
    }
  },
  "nbformat": 4,
  "nbformat_minor": 0
}