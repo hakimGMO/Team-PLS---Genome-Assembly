{
 "cells": [
  {
   "cell_type": "markdown",
   "metadata": {},
   "source": [
    "# Construct the Overlap Graph of a Collection of k-mers\n",
    "\n",
    "In this chapter, we use the terms prefix and suffix to refer to the first k − 1 nucleotides and last k − 1 nucleotides of a k-mer, respectively.\n",
    "\n",
    "Given an arbitrary collection of k-mers Patterns, we form a graph having a node for each k-mer in Patterns and connect k-mers Pattern and Pattern' by a directed edge if **Suffix(Pattern)** is equal to \n",
    "**Prefix(Pattern')**. \n",
    "The resulting graph is called the overlap graph on these k-mers, denoted Overlap(Patterns).\n",
    "\n",
    "## Overlap Graph Problem\n",
    "Construct the overlap graph of a collection of k-mers.\n",
    "\n",
    "Given: A collection Patterns of k-mers.\n",
    "\n",
    "Return: The overlap graph Overlap(Patterns), in the form of an adjacency list.\n",
    "\n",
    "## Sample Dataset\n",
    "ATGCG\n",
    "GCATG\n",
    "CATGC\n",
    "AGGCA\n",
    "GGCAT\n",
    "\n",
    "## Sample Output\n",
    "AGGCA -> GGCAT\n",
    "CATGC -> ATGCG\n",
    "GCATG -> CATGC\n",
    "GGCAT -> GCATG"
   ]
  },
  {
   "cell_type": "code",
   "execution_count": null,
   "metadata": {},
   "outputs": [
    {
     "name": "stdout",
     "output_type": "stream",
     "text": [
      "GCATG -> CATGC\n",
      "CATGC -> ATGCG\n",
      "AGGCA -> GGCAT\n",
      "GGCAT -> GCATG\n"
     ]
    }
   ],
   "source": [
    "def construct_overlap_graph(kmers):\n",
    "    # Initialize the dictionary for the overlap graph\n",
    "    graph = {}\n",
    "    \n",
    "    # Iterate over each k-mer to find overlaps\n",
    "    for Patterns in Patternss:\n",
    "        suffix = Patterns[1:]  # Suffix of the current k-mer\n",
    "        for other_Patterns in Patternss:\n",
    "            prefix = other_Patterns[:-1]  # Prefix of the other k-mer\n",
    "            if suffix == prefix:\n",
    "                if Patterns not in graph:\n",
    "                    graph[Patterns] = []\n",
    "                graph[Patterns].append(other_Patterns)\n",
    "    \n",
    "    return graph\n",
    "\n",
    "# Example usage\n",
    "Patternss = [\n",
    "    \"ATGCG\",\n",
    "    \"GCATG\",\n",
    "    \"CATGC\",\n",
    "    \"AGGCA\",\n",
    "    \"GGCAT\"\n",
    "]\n",
    "\n",
    "overlap_graph = construct_overlap_graph(Patternss)\n",
    "for Patterns, adjacents in overlap_graph.items():\n",
    "    print(f\"{Patterns} -> {', '.join(adjacents)}\")"
   ]
  },
  {
   "cell_type": "markdown",
   "metadata": {
    "vscode": {
     "languageId": "plaintext"
    }
   },
   "source": [
    "def Prefix (Pattern) :\n",
    "def Suffix (Pattern): \n",
    "\n",
    "def Overlap (Patterns) :\n",
    "   "
   ]
  },
  {
   "cell_type": "code",
   "execution_count": 2,
   "metadata": {},
   "outputs": [
    {
     "name": "stdout",
     "output_type": "stream",
     "text": [
      "GCATG -> CATGC\n",
      "CATGC -> ATGCG\n",
      "AGGCA -> GGCAT\n",
      "GGCAT -> GCATG\n"
     ]
    }
   ],
   "source": [
    "def Prefix(Pattern):\n",
    "    return Pattern[:-1]\n",
    "\n",
    "def Suffix(Pattern):\n",
    "    return Pattern[1:]\n",
    "\n",
    "def Overlap (Patterns):\n",
    "    # Initialize the dictionary for the overlap graph\n",
    "    graph = {}\n",
    "    \n",
    "    # Iterate over each k-mer to find overlaps\n",
    "    for Patterns in Patternss:\n",
    "        suffix = Suffix(Patterns)  # Use the Suffix function\n",
    "        for other_Patterns in Patternss:\n",
    "            prefix = Prefix(other_Patterns)  # Use the Prefix function\n",
    "            if suffix == prefix:\n",
    "                if Patterns not in graph:\n",
    "                    graph[Patterns] = []\n",
    "                graph[Patterns].append(other_Patterns)\n",
    "    \n",
    "    return graph\n",
    "\n",
    "# Example usage\n",
    "Patternss = [\n",
    "    \"ATGCG\",\n",
    "    \"GCATG\",\n",
    "    \"CATGC\",\n",
    "    \"AGGCA\",\n",
    "    \"GGCAT\"\n",
    "]\n",
    "\n",
    "overlap_graph = construct_overlap_graph(Patternss)\n",
    "for Patterns, adjacents in overlap_graph.items():\n",
    "    print(f\"{Patterns} -> {', '.join(adjacents)}\")"
   ]
  }
 ],
 "metadata": {
  "kernelspec": {
   "display_name": "Python 3 (ipykernel)",
   "language": "python",
   "name": "python3"
  },
  "language_info": {
   "codemirror_mode": {
    "name": "ipython",
    "version": 3
   },
   "file_extension": ".py",
   "mimetype": "text/x-python",
   "name": "python",
   "nbconvert_exporter": "python",
   "pygments_lexer": "ipython3",
   "version": "3.12.4"
  }
 },
 "nbformat": 4,
 "nbformat_minor": 2
}
