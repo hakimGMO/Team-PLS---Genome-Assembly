{
 "cells": [
  {
   "cell_type": "markdown",
   "metadata": {},
   "source": [
    "Given a string Text, its k-mer composition Compositionk(Text) is the collection of all k-mer substrings of Text (including repeated k-mers). \n",
    "For example,\n",
    "\n",
    "Composition3(TATGGGGTGC) = {ATG, GGG, GGG, GGT, GTG, TAT, TGC, TGG}\n",
    "Note that we have listed k-mers in lexicographic order (i.e., how they would appear in a dictionary)\n",
    "rather than in the order of their appearance in TATGGGGTGC. We have done this because the correct ordering of the reads is unknown when they are generated.\n",
    "\n",
    "# String Composition Problem\n",
    "Generate the k-mer composition of a string.\n",
    "\n",
    "Given: An integer k and a string Text.\n",
    "\n",
    "Return: Compositionk(Text) (the k-mers can be provided in any order).\n",
    "\n",
    "# Sample Dataset \n",
    "5\n",
    "CAATCCAAC\n",
    "\n",
    "# Sample Output\n",
    "AATCC\n",
    "ATCCA\n",
    "CAATC\n",
    "CCAAC\n",
    "TCCAA"
   ]
  },
  {
   "cell_type": "code",
   "execution_count": 1,
   "metadata": {},
   "outputs": [],
   "source": [
    "def Compositionk(Text, k):\n",
    "    kmers = []\n",
    "    for i in range(len(Text)-k+1):\n",
    "        kmers.append(Text[i:i+k])\n",
    "    return kmers"
   ]
  }
 ],
 "metadata": {
  "kernelspec": {
   "display_name": "Python 3 (ipykernel)",
   "language": "python",
   "name": "python3"
  },
  "language_info": {
   "codemirror_mode": {
    "name": "ipython",
    "version": 3
   },
   "file_extension": ".py",
   "mimetype": "text/x-python",
   "name": "python",
   "nbconvert_exporter": "python",
   "pygments_lexer": "ipython3",
   "version": "3.12.4"
  }
 },
 "nbformat": 4,
 "nbformat_minor": 2
}
