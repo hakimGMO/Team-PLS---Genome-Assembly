{
 "cells": [
  {
   "cell_type": "markdown",
   "metadata": {},
   "source": [
    "# String Spelled by a Genome Path Problem\n",
    "Find the string spelled by a genome path.\n",
    "\n",
    "Given: A sequence of k-mers Pattern1, ... , Patternn such that the last k - 1 symbols of Patterni are equal to the first k - 1 symbols of Patterni+1 for i from 1 to n-1.\n",
    "\n",
    "Return: A string Text of length k+n-1 where the i-th k-mer in Text is equal to Patterni for all i.\n",
    "\n",
    "# Sample Dataset\n",
    "ACCGA\n",
    "CCGAA\n",
    "CGAAG\n",
    "GAAGC\n",
    "AAGCT\n",
    "# Sample Output\n",
    "ACCGAAGCT\n",
    "# Extra Dataset"
   ]
  }
 ],
 "metadata": {
  "language_info": {
   "name": "python"
  }
 },
 "nbformat": 4,
 "nbformat_minor": 2
}
