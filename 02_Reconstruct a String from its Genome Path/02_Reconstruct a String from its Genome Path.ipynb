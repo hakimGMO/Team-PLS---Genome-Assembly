{
 "cells": [
  {
   "cell_type": "markdown",
   "metadata": {},
   "source": [
    "# String Spelled by a Genome Path Problem\n",
    "Find the string spelled by a genome path.\n",
    "\n",
    "Given: A sequence of k-mers Pattern1, ... , Patternn such that the last k - 1 symbols of Patterni are equal to the first k - 1 symbols of Patterni+1 for i from 1 to n-1.\n",
    "\n",
    "Return: A string Text of length k+n-1 where the i-th k-mer in Text is equal to Patterni for all i.\n",
    "\n",
    "# Sample Dataset\n",
    "ACCGA\n",
    "CCGAA\n",
    "CGAAG\n",
    "GAAGC\n",
    "AAGCT\n",
    "# Sample Output\n",
    "ACCGAAGCT\n",
    "# Extra Dataset\n",
    "[text](GenomePathString.txt)"
   ]
  },
  {
   "cell_type": "code",
   "execution_count": 10,
   "metadata": {},
   "outputs": [
    {
     "name": "stdout",
     "output_type": "stream",
     "text": [
      "ACCGAAGCT\n"
     ]
    }
   ],
   "source": [
    "def genome_path_string(kmers):\n",
    "    # Initialiser la chaîne de texte avec le premier k-mer\n",
    "    text = kmers[0]\n",
    "    \n",
    "    # Ajouter le dernier caractère de chaque k-mer suivant à la chaîne de texte\n",
    "    for kmer in kmers[1:]:\n",
    "        text += kmer[-1]\n",
    "    \n",
    "    return text\n",
    "\n",
    "# Exemple d'utilisation\n",
    "kmers = [\n",
    "    \"ACCGA\",\n",
    "    \"CCGAA\",\n",
    "    \"CGAAG\",\n",
    "    \"GAAGC\",\n",
    "    \"AAGCT\"\n",
    "]\n",
    "\n",
    "result = genome_path_string(kmers)\n",
    "print(result)  # Doit afficher \"ACCGAAGCT\""
   ]
  }
 ],
 "metadata": {
  "kernelspec": {
   "display_name": "Python 3 (ipykernel)",
   "language": "python",
   "name": "python3"
  },
  "language_info": {
   "codemirror_mode": {
    "name": "ipython",
    "version": 3
   },
   "file_extension": ".py",
   "mimetype": "text/x-python",
   "name": "python",
   "nbconvert_exporter": "python",
   "pygments_lexer": "ipython3",
   "version": "3.12.4"
  }
 },
 "nbformat": 4,
 "nbformat_minor": 2
}
